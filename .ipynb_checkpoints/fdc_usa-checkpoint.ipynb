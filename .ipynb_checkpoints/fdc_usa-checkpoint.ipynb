{
 "cells": [
  {
   "cell_type": "code",
   "execution_count": 175,
   "metadata": {},
   "outputs": [
    {
     "data": {
      "application/vnd.jupyter.widget-view+json": {
       "model_id": "ecd7253c604c4f6fbdd52babafd307ed",
       "version_major": 2,
       "version_minor": 0
      },
      "text/plain": [
       "Map(center=[37.64, -86.52], controls=(AttributionControl(options=['position', 'prefix'], position='bottomright…"
      ]
     },
     "metadata": {},
     "output_type": "display_data"
    }
   ],
   "source": [
    "from ipyleaflet import Map, ZoomControl, Marker, Popup, GeoJSON, WidgetControl\n",
    "import json\n",
    "\n",
    "m = Map(zoom=4, center=[31.64 + 3 + 3, -76.52 - 5 - 5], zoom_control=False)  # Do not automatically create a ZoomControl\n",
    "m.add_control(ZoomControl(position='topright'))\n",
    "\n",
    "with open('./HCDN_nhru_final_671_Features2_simplified.json','r') as f:\n",
    "    countries = json.load(f)\n",
    "\n",
    "geo = GeoJSON(data=countries, style={'fillColor': 'white', 'weight': 0.5}, hover_style={'fillColor': '#1f77b4'}, name='Countries')\n",
    "m.add_layer(geo)\n",
    "\n",
    "m"
   ]
  },
  {
   "cell_type": "code",
   "execution_count": 171,
   "metadata": {},
   "outputs": [],
   "source": [
    "def FDC(Qobs, norm = True):\n",
    "    tot_time_length = len(Qobs)\n",
    "    #Rank = np.zeros(tot_time_length)\n",
    "    temp = Qobs.argsort()\n",
    "    temp = np.flipud(temp)\n",
    "    ranks = np.empty_like(temp)\n",
    "    ranks[temp] = np.arange(tot_time_length)\n",
    "    ranks = ranks + 1\n",
    "    if norm:\n",
    "        Qmean = np.nanmean(Qobs)\n",
    "        if Qmean < 0.0:\n",
    "            Qnorm = Qobs / (-1.0 * Qmean) \n",
    "        else:\n",
    "            Qnorm = Qobs / Qmean\n",
    "    else:\n",
    "        Qnorm = Qobs\n",
    "#    ranknorm = ranks/np.float(np.max(ranks))\n",
    "    ranknorm = ranks/(np.float(tot_time_length) + 1)\n",
    "\n",
    "# Sort ranknorm and Qnorm based on ranknorm\n",
    "\n",
    "    temp = ranknorm.argsort()\n",
    "#    temp = np.flipud(temp)\n",
    "    Qnorm = Qnorm[temp]\n",
    "    ranknorm = ranknorm[temp]\n",
    "    \n",
    "    \n",
    "\n",
    "    return Qnorm, ranknorm"
   ]
  },
  {
   "cell_type": "code",
   "execution_count": 172,
   "metadata": {},
   "outputs": [
    {
     "name": "stderr",
     "output_type": "stream",
     "text": [
      "C:\\Users\\minse\\anaconda3\\lib\\site-packages\\ipykernel_launcher.py:4: FutureWarning: The pandas.datetime class is deprecated and will be removed from pandas in a future version. Import from datetime module instead.\n",
      "  after removing the cwd from sys.path.\n",
      "C:\\Users\\minse\\anaconda3\\lib\\site-packages\\ipykernel_launcher.py:5: FutureWarning: The pandas.datetime class is deprecated and will be removed from pandas in a future version. Import from datetime module instead.\n",
      "  \"\"\"\n"
     ]
    },
    {
     "data": {
      "application/vnd.jupyter.widget-view+json": {
       "model_id": "530cf8f4ba12441f8a7645a1d6f48078",
       "version_major": 2,
       "version_minor": 0
      },
      "text/plain": [
       "Figure(animation_duration=500, axes=[Axis(label='Exceedance Prob. [-]', num_ticks=6, scale=LinearScale(max=1.0…"
      ]
     },
     "metadata": {},
     "output_type": "display_data"
    }
   ],
   "source": [
    "from bqplot import Lines, Figure, LinearScale, DateScale, Axis, LogScale\n",
    "import pandas as pd\n",
    "\n",
    "date_start = pd.datetime(1800, 12, 31)\n",
    "date_end = pd.datetime(2009, 12, 31)\n",
    "\n",
    "date_scale = DateScale(min=date_start, max=date_end)\n",
    "data_name = 'income'\n",
    "country_name = '12043000'\n",
    "\n",
    "country_name_here = country_name\n",
    "if len(country_name_here) == 7:\n",
    "    country_name_here = '0' + country_name_here\n",
    "\n",
    "filename=  './data/' + country_name_here + '_streamflow_qc.txt'\n",
    "filename\n",
    "\n",
    "data = pd.read_csv(filename, delim_whitespace=True , header = None) #, names = ['ID','YEAR','MONTH','DAY','Q','QC'])\n",
    "data.columns = ['ID','YEAR','MONTH','DAY','Q','QC']\n",
    "Qhere = data.Q.values[data.Q.values>-999]\n",
    "fdc_y, fdc_x = FDC(Qhere, norm = 'True')\n",
    "    \n",
    "#    print (data)\n",
    "#print (data.Q)\n",
    "\n",
    "#     lines_x = fdc_x\n",
    "#     lines.y = fdc_y\n",
    "\n",
    "    \n",
    "x_scale = LinearScale(min = 0.0, max = 1.0)\n",
    "#y_scale = LinearScale(min = 0.0)\n",
    "y_scale = LogScale(min = 0.02,max=20.0)\n",
    "\n",
    "\n",
    "lines = Lines(x=fdc_x, y=fdc_y, scales={'x': x_scale, 'y': y_scale})\n",
    "\n",
    "ax_x = Axis(label='Exceedance Prob. [-]', scale=x_scale, num_ticks=6, xlim = (0.1))\n",
    "ax_y = Axis(label='Discharge [mm/day]', scale=y_scale, orientation='vertical', side='left')\n",
    "\n",
    "#figure = Figure(axes=[ax_x, ax_y], title=country_name, marks=[lines], animation_duration=500,\n",
    "#                layout={'max_height': '250px', 'max_width': '400px'})\n",
    "\n",
    "figure = Figure(axes=[ax_x, ax_y], title=country_name, marks = [lines], animation_duration=500,\n",
    "                layout={'max_height': '250px', 'max_width': '400px'})\n",
    "\n",
    "figure"
   ]
  },
  {
   "cell_type": "code",
   "execution_count": 173,
   "metadata": {},
   "outputs": [],
   "source": [
    "def update_figure(country_name, data_name):\n",
    "# Load file\n",
    "    country_name_here = country_name\n",
    "    if len(country_name_here) == 7:\n",
    "        country_name_here = '0' + country_name_here\n",
    "        \n",
    "    filename=  './data/' + country_name_here + '_streamflow_qc.txt'\n",
    "    filename\n",
    "\n",
    "    import pandas as pd\n",
    "\n",
    "    data = pd.read_csv(filename, delim_whitespace=True , header = None) #, names = ['ID','YEAR','MONTH','DAY','Q','QC'])\n",
    "    data.columns = ['ID','YEAR','MONTH','DAY','Q','QC']\n",
    "    Qhere = data.Q.values[data.Q.values>-999]    \n",
    "    fdc_y, fdc_x = FDC(Qhere, norm = True)\n",
    "    \n",
    "#    print (data)\n",
    "#    print (data.Q)\n",
    "    lines_x = fdc_x\n",
    "    lines.y = fdc_y\n",
    "    \n",
    "#    ax_y.label = data_name.capitalize()\n",
    "    figure.title = country_name"
   ]
  },
  {
   "cell_type": "code",
   "execution_count": 174,
   "metadata": {},
   "outputs": [],
   "source": [
    "widget_control1 = WidgetControl(widget=figure, position='bottomright')\n",
    "\n",
    "m.add_control(widget_control1)\n",
    "\n",
    "def on_hover(event, feature, **kwargs):\n",
    "    global country_name\n",
    "\n",
    "    country_name = str(feature['properties']['hru_id'])\n",
    "    update_figure(country_name, data_name)\n",
    "\n",
    "geo.on_hover(on_hover)"
   ]
  },
  {
   "cell_type": "code",
   "execution_count": 170,
   "metadata": {
    "scrolled": true
   },
   "outputs": [
    {
     "data": {
      "application/vnd.jupyter.widget-view+json": {
       "model_id": "a422848855c840ff9ee6b4b2277474ae",
       "version_major": 2,
       "version_minor": 0
      },
      "text/plain": [
       "Map(bottom=1785.0, center=[37.64, -86.52], controls=(AttributionControl(options=['position', 'prefix'], positi…"
      ]
     },
     "metadata": {},
     "output_type": "display_data"
    }
   ],
   "source": [
    "m"
   ]
  },
  {
   "cell_type": "code",
   "execution_count": null,
   "metadata": {},
   "outputs": [],
   "source": []
  }
 ],
 "metadata": {
  "kernelspec": {
   "display_name": "Python 3",
   "language": "python",
   "name": "python3"
  },
  "language_info": {
   "codemirror_mode": {
    "name": "ipython",
    "version": 3
   },
   "file_extension": ".py",
   "mimetype": "text/x-python",
   "name": "python",
   "nbconvert_exporter": "python",
   "pygments_lexer": "ipython3",
   "version": "3.7.6"
  }
 },
 "nbformat": 4,
 "nbformat_minor": 4
}
