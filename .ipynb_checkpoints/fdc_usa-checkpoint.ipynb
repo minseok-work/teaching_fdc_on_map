{
 "cells": [
  {
   "cell_type": "markdown",
   "metadata": {},
   "source": [
    "# Flow duration curve on US map\n",
    "  \n",
    "  You will create an interactive map that shows flow duration curve for 671 catchments in US. This example uses CAMELS dataset (https://ral.ucar.edu/solutions/products/camels) $^{1,2}$.\n",
    "    \n",
    "  \n",
    "  1. A. Newman; K. Sampson; M. P. Clark; A. Bock; R. J. Viger; D. Blodgett, 2014. A large-sample watershed-scale hydrometeorological dataset for the contiguous USA. Boulder, CO: UCAR/NCAR. https://dx.doi.org/10.5065/D6MW2F4D\n",
    "  \n",
    "  2. A. J. Newman, M. P. Clark, K. Sampson, A. Wood, L. E. Hay, A. Bock, R. J. Viger, D. Blodgett, L. Brekke, J. R. Arnold, T. Hopson, and Q. Duan: Development of a large-sample watershed-scale hydrometeorological dataset for the contiguous USA: dataset characteristics and assessment of regional variability in hydrologic model performance. Hydrol. Earth Syst. Sci., 19, 209-223, doi:10.5194/hess-19-209-2015, 2015"
   ]
  },
  {
   "cell_type": "markdown",
   "metadata": {},
   "source": [
    "# 1. US map and catchment boundaries"
   ]
  },
  {
   "cell_type": "code",
   "execution_count": 10,
   "metadata": {},
   "outputs": [
    {
     "data": {
      "application/vnd.jupyter.widget-view+json": {
       "model_id": "1640930baff94d72bf0efcefed6ae6b9",
       "version_major": 2,
       "version_minor": 0
      },
      "text/plain": [
       "Map(center=[37.64, -86.52], controls=(AttributionControl(options=['position', 'prefix'], position='bottomright…"
      ]
     },
     "metadata": {},
     "output_type": "display_data"
    }
   ],
   "source": [
    "from ipyleaflet import Map, ZoomControl, Marker, Popup, GeoJSON, WidgetControl\n",
    "import json\n",
    "\n",
    "m = Map(zoom=4, center=[31.64 + 3 + 3, -76.52 - 5 - 5], zoom_control=False)  # Do not automatically create a ZoomControl\n",
    "m.add_control(ZoomControl(position='topright'))\n",
    "\n",
    "with open('./HCDN_nhru_final_671_Features2_simplified.json','r') as f:\n",
    "    countries = json.load(f)\n",
    "\n",
    "geo = GeoJSON(data=countries, style={'fillColor': 'white', 'weight': 0.5}, hover_style={'fillColor': '#1f77b4'}, name='Countries')\n",
    "m.add_layer(geo)\n",
    "\n",
    "m"
   ]
  },
  {
   "cell_type": "markdown",
   "metadata": {},
   "source": [
    "# 2. Flow duration curve module"
   ]
  },
  {
   "cell_type": "code",
   "execution_count": 11,
   "metadata": {},
   "outputs": [],
   "source": [
    "import numpy as np\n",
    "\n",
    "def FDC(Qobs, norm = True):\n",
    "    tot_time_length = len(Qobs)\n",
    "    #Rank = np.zeros(tot_time_length)\n",
    "    temp = Qobs.argsort()\n",
    "    temp = np.flipud(temp)\n",
    "    ranks = np.empty_like(temp)\n",
    "    ranks[temp] = np.arange(tot_time_length)\n",
    "    ranks = ranks + 1\n",
    "    if norm:\n",
    "        Qmean = np.nanmean(Qobs)\n",
    "        if Qmean < 0.0:\n",
    "            Qnorm = Qobs / (-1.0 * Qmean) \n",
    "        else:\n",
    "            Qnorm = Qobs / Qmean\n",
    "    else:\n",
    "        Qnorm = Qobs\n",
    "#    ranknorm = ranks/np.float(np.max(ranks))\n",
    "    ranknorm = ranks/(np.float(tot_time_length) + 1)\n",
    "\n",
    "# Sort ranknorm and Qnorm based on ranknorm\n",
    "\n",
    "    temp = ranknorm.argsort()\n",
    "#    temp = np.flipud(temp)\n",
    "    Qnorm = Qnorm[temp]\n",
    "    ranknorm = ranknorm[temp]\n",
    "    \n",
    "    \n",
    "\n",
    "    return Qnorm, ranknorm"
   ]
  },
  {
   "cell_type": "markdown",
   "metadata": {},
   "source": [
    "# 3. Create interactive figure"
   ]
  },
  {
   "cell_type": "code",
   "execution_count": 12,
   "metadata": {},
   "outputs": [
    {
     "data": {
      "application/vnd.jupyter.widget-view+json": {
       "model_id": "d9a17f647cef4069a62c80c16ac87ea6",
       "version_major": 2,
       "version_minor": 0
      },
      "text/plain": [
       "Figure(animation_duration=500, axes=[Axis(label='Exceedance Prob. [-]', num_ticks=6, scale=LinearScale(max=1.0…"
      ]
     },
     "metadata": {},
     "output_type": "display_data"
    }
   ],
   "source": [
    "from bqplot import Lines, Figure, LinearScale, DateScale, Axis, LogScale\n",
    "import pandas as pd\n",
    "\n",
    "data_name = 'income'\n",
    "country_name = '12043000'\n",
    "\n",
    "country_name_here = country_name\n",
    "if len(country_name_here) == 7:\n",
    "    country_name_here = '0' + country_name_here\n",
    "\n",
    "filename=  './data/' + country_name_here + '_streamflow_qc.txt'\n",
    "#filename\n",
    "#data = pd.read_csv(filename, delim_whitespace=True , header = None) #, names = ['ID','YEAR','MONTH','DAY','Q','QC'])\n",
    "import zipfile\n",
    "with zipfile.ZipFile('data2.zip') as z:\n",
    "   with z.open(country_name_here + '_streamflow_qc.txt') as f:\n",
    "        data = pd.read_csv(f, delim_whitespace=True , header = None) #, names = ['ID','YEAR','MONTH','DAY','Q','QC'])\n",
    "\n",
    "data.columns = ['ID','YEAR','MONTH','DAY','Q','QC']\n",
    "Qhere = data.Q.values[data.Q.values>-999]\n",
    "fdc_y, fdc_x = FDC(Qhere, norm = 'True')\n",
    "    \n",
    "    \n",
    "x_scale = LinearScale(min = 0.0, max = 1.0)\n",
    "y_scale = LogScale(min = 0.02,max=20.0)\n",
    "\n",
    "lines = Lines(x=fdc_x, y=fdc_y, scales={'x': x_scale, 'y': y_scale})\n",
    "\n",
    "ax_x = Axis(label='Exceedance Prob. [-]', scale=x_scale, num_ticks=6, xlim = (0.1))\n",
    "ax_y = Axis(label='Discharge [mm/day]', scale=y_scale, orientation='vertical', side='left')\n",
    "\n",
    "figure = Figure(axes=[ax_x, ax_y], title=country_name, marks = [lines], animation_duration=500,\n",
    "                layout={'max_height': '250px', 'max_width': '400px'})\n",
    "\n",
    "figure"
   ]
  },
  {
   "cell_type": "markdown",
   "metadata": {},
   "source": [
    "# 4. Overlay the figure on the map"
   ]
  },
  {
   "cell_type": "code",
   "execution_count": 13,
   "metadata": {},
   "outputs": [],
   "source": [
    "def update_figure(country_name, data_name):\n",
    "# Load file\n",
    "    country_name_here = country_name\n",
    "    if len(country_name_here) == 7:\n",
    "        country_name_here = '0' + country_name_here\n",
    "        \n",
    "    filename=  './data/' + country_name_here + '_streamflow_qc.txt'\n",
    "    filename\n",
    "\n",
    "    import pandas as pd\n",
    "\n",
    "    with zipfile.ZipFile('data2.zip') as z:\n",
    "       with z.open(country_name_here + '_streamflow_qc.txt') as f:\n",
    "            data = pd.read_csv(f, delim_whitespace=True , header = None) #, names = ['ID','YEAR','MONTH','DAY','Q','QC'])\n",
    "    \n",
    "#    data = pd.read_csv(filename, delim_whitespace=True , header = None) #, names = ['ID','YEAR','MONTH','DAY','Q','QC'])\n",
    "    data.columns = ['ID','YEAR','MONTH','DAY','Q','QC']\n",
    "    Qhere = data.Q.values[data.Q.values>-999]    \n",
    "    fdc_y, fdc_x = FDC(Qhere, norm = True)\n",
    "    \n",
    "#    print (data)\n",
    "#    print (data.Q)\n",
    "    lines_x = fdc_x\n",
    "    lines.y = fdc_y\n",
    "    \n",
    "#    ax_y.label = data_name.capitalize()\n",
    "    figure.title = country_name\n",
    "    \n",
    "widget_control1 = WidgetControl(widget=figure, position='bottomright')\n",
    "\n",
    "m.add_control(widget_control1)\n",
    "\n",
    "def on_hover(event, feature, **kwargs):\n",
    "    global country_name\n",
    "\n",
    "    country_name = str(feature['properties']['hru_id'])\n",
    "    update_figure(country_name, data_name)\n",
    "\n",
    "geo.on_hover(on_hover)"
   ]
  },
  {
   "cell_type": "markdown",
   "metadata": {
    "scrolled": true
   },
   "source": [
    "# 5. Interactive map"
   ]
  },
  {
   "cell_type": "code",
   "execution_count": 18,
   "metadata": {
    "scrolled": true
   },
   "outputs": [
    {
     "data": {
      "application/vnd.jupyter.widget-view+json": {
       "model_id": "1640930baff94d72bf0efcefed6ae6b9",
       "version_major": 2,
       "version_minor": 0
      },
      "text/plain": [
       "Map(bottom=1750.0, center=[40.04443758460859, -89.07714843750001], controls=(AttributionControl(options=['posi…"
      ]
     },
     "metadata": {},
     "output_type": "display_data"
    }
   ],
   "source": [
    "m"
   ]
  },
  {
   "cell_type": "code",
   "execution_count": 16,
   "metadata": {},
   "outputs": [],
   "source": []
  },
  {
   "cell_type": "code",
   "execution_count": null,
   "metadata": {},
   "outputs": [],
   "source": []
  }
 ],
 "metadata": {
  "kernelspec": {
   "display_name": "Python 3",
   "language": "python",
   "name": "python3"
  },
  "language_info": {
   "codemirror_mode": {
    "name": "ipython",
    "version": 3
   },
   "file_extension": ".py",
   "mimetype": "text/x-python",
   "name": "python",
   "nbconvert_exporter": "python",
   "pygments_lexer": "ipython3",
   "version": "3.7.6"
  }
 },
 "nbformat": 4,
 "nbformat_minor": 4
}
